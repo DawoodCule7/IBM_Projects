{
 "cells": [
  {
   "cell_type": "markdown",
   "metadata": {},
   "source": [
    "<center>\n",
    "    <img src=\"https://s3-api.us-geo.objectstorage.softlayer.net/cf-courses-data/CognitiveClass/Logos/organization_logo/organization_logo.png\" width=\"300\" alt=\"cognitiveclass.ai logo\"  />\n",
    "</center>\n"
   ]
  },
  {
   "cell_type": "markdown",
   "metadata": {},
   "source": [
    "<center> <h1> My Jupyter Notebook on IBM Watson Studio </h1> </center>"
   ]
  },
  {
   "cell_type": "markdown",
   "metadata": {},
   "source": [
    "**Author: Mohammed Dawood Khan**\n",
    "\n",
    "Occupation: I am currently a student and I desire to become a highly skilled Data Scientist.\n"
   ]
  },
  {
   "cell_type": "markdown",
   "metadata": {},
   "source": [
    "*I am interested in Data Science because it gives meaning to raw data and converts it into meaningful insights that can be used to grow the business and recognize market trends.*"
   ]
  },
  {
   "cell_type": "markdown",
   "metadata": {},
   "source": [
    "### The code when executed asks the user 10 questions and evaluates the result at the end"
   ]
  },
  {
   "cell_type": "markdown",
   "metadata": {},
   "source": [
    "print(\"***Welcome to GK Quiz***\")\n",
    "play = input (\"Do you want to play? (yes or no)\\n\")\n",
    "\n",
    "if play.lower() != \"yes\":\n",
    "    quit()\n",
    "\n",
    "score = 0\n",
    "answer = input (\"Q.1 How many letters are there in the English alphabet?\\n\" )\n",
    "if answer.lower() == \"26\":\n",
    "    score += 1\n",
    "\n",
    "answer = input (\"Q.2 How many teeth does an adult have?\\n\" )\n",
    "if answer.lower() == \"32\":\n",
    "    score += 1\n",
    "\n",
    "answer = input (\"Q.3 Name the largest mammal? \\n\" )\n",
    "if answer.lower() == \"blue whale\":\n",
    "    score += 1\n",
    "\n",
    "answer = input (\"Q.4  Name the largest planet of our Solar System?\\n\" )\n",
    "if answer.lower() == \"jupiter\":\n",
    "    score += 1    \n",
    "\n",
    "answer = input (\"Q.5 What is the symbol for the element Sodium? \\n\" )\n",
    "if answer.lower() == \"na\":\n",
    "    score += 1    \n",
    "\n",
    "answer = input (\"Q.6 What galaxy do we live in? \\n\" )\n",
    "if answer.lower() == \"milky way\":\n",
    "    score += 1   \n",
    "\n",
    "answer = input (\"Q.7 Which is the world's tallest building? \\n\" )\n",
    "if answer.lower() == \"burj khalifa\":\n",
    "    score += 1    \n",
    "\n",
    "answer = input (\"Q.8 How many players in a football team? \\n\" )\n",
    "if answer.lower() == \"11\":\n",
    "    score += 1    \n",
    " \n",
    "answer = input (\"Q.9 Is PI rational or irrational? \\n\" )\n",
    "if answer.lower() == \"irrational\":\n",
    "    score += 1    \n",
    "\n",
    "answer = input (\"Q.10 what is Cube root of 512? \\n\" )\n",
    "if answer.lower() == \"8\":\n",
    "    score += 1    \n",
    "\n",
    "print (\"You had \", score ,\" answers correct\")\n",
    "print (\"Your score is \" ,score/10 * 100 ,\" %.\")   "
   ]
  },
  {
   "cell_type": "markdown",
   "metadata": {},
   "source": [
    "`lower ()` function coverts the string into lowercase.\n",
    "\n",
    "---\n",
    "\n",
    "[***Follow me on Instagram:***](https://www.instagram.com/d._.wood/)\n",
    "\n",
    "---\n",
    "\n",
    "\n",
    "![GitHub](https://images8.alphacoders.com/430/thumb-1920-430944.jpg)"
   ]
  },
  {
   "cell_type": "code",
   "execution_count": null,
   "metadata": {},
   "outputs": [],
   "source": []
  }
 ],
 "metadata": {
  "kernelspec": {
   "display_name": "Python",
   "language": "python",
   "name": "conda-env-python-py"
  },
  "language_info": {
   "codemirror_mode": {
    "name": "ipython",
    "version": 3
   },
   "file_extension": ".py",
   "mimetype": "text/x-python",
   "name": "python",
   "nbconvert_exporter": "python",
   "pygments_lexer": "ipython3",
   "version": "3.7.12"
  }
 },
 "nbformat": 4,
 "nbformat_minor": 4
}
